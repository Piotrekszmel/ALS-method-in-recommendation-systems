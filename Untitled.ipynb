{
 "cells": [
  {
   "cell_type": "code",
   "execution_count": 2,
   "metadata": {},
   "outputs": [],
   "source": [
    "import pandas as pd\n",
    "import numpy as np"
   ]
  },
  {
   "cell_type": "code",
   "execution_count": 3,
   "metadata": {},
   "outputs": [],
   "source": [
    "data = pd.read_csv(\"amazon_data.csv\", index_col=False)\n",
    "\n",
    "title1 = data.loc[data[\"Title\"] == \"Make a Wish (Holiday Greetings Cards)\"]\n",
    "title2 = data.loc[data[\"Title\"] == \"The Man Who Sold the World\"]\n",
    "title3 = data.loc[data[\"Title\"] == \"The Three Stooges - Spook Louder\"]\n",
    "title4 = data.loc[data[\"Title\"] == \"True Grits : The Southern Foods Mail-Order Catalog \"]\n",
    "title5 = data.loc[data[\"Title\"] == \"Quick Toning: Thighs of Steel \"]\n",
    "title6 = data.loc[data[\"Title\"] == \"Simply Red - Live in London\"]\n",
    "title7 = data.loc[data[\"Title\"] == \"The Kama Sutra of Vatsyayana\"]"
   ]
  },
  {
   "cell_type": "code",
   "execution_count": 8,
   "metadata": {},
   "outputs": [
    {
     "data": {
      "text/plain": [
       "Make a Wish (Holiday Greetings Cards)                                                 4809\n",
       "The Man Who Sold the World                                                            4353\n",
       "The Three Stooges - Spook Louder                                                      3895\n",
       "True Grits : The Southern Foods Mail-Order Catalog                                    3565\n",
       "Quick Toning: Thighs of Steel                                                         1213\n",
       "                                                                                      ... \n",
       "Elements of Logic via Numbers and Sets (Springer Undergraduate Mathematics Series)       1\n",
       "Interpretive Interactionism (Applied Social Research Methods)                            1\n",
       "Ten Strategies for Successful Contract Negotiations                                      1\n",
       "Baby's World: Look At Me I Can Play (Baby's World)                                       1\n",
       "Thomas and the Hide-and-seek Animals (A Thomas the Tank Engine Flap Book)                1\n",
       "Name: Title, Length: 30028, dtype: int64"
      ]
     },
     "execution_count": 8,
     "metadata": {},
     "output_type": "execute_result"
    }
   ],
   "source": [
    "data[\"Title\"].value_counts()"
   ]
  },
  {
   "cell_type": "code",
   "execution_count": 9,
   "metadata": {},
   "outputs": [
    {
     "data": {
      "text/html": [
       "<div>\n",
       "<style scoped>\n",
       "    .dataframe tbody tr th:only-of-type {\n",
       "        vertical-align: middle;\n",
       "    }\n",
       "\n",
       "    .dataframe tbody tr th {\n",
       "        vertical-align: top;\n",
       "    }\n",
       "\n",
       "    .dataframe thead th {\n",
       "        text-align: right;\n",
       "    }\n",
       "</style>\n",
       "<table border=\"1\" class=\"dataframe\">\n",
       "  <thead>\n",
       "    <tr style=\"text-align: right;\">\n",
       "      <th></th>\n",
       "      <th>Unnamed: 0</th>\n",
       "      <th>Group</th>\n",
       "      <th>Title</th>\n",
       "      <th>Id</th>\n",
       "      <th>Ratings</th>\n",
       "      <th>index</th>\n",
       "    </tr>\n",
       "  </thead>\n",
       "  <tbody>\n",
       "    <tr>\n",
       "      <td>476708</td>\n",
       "      <td>476708</td>\n",
       "      <td>Book</td>\n",
       "      <td>The Kama Sutra of Vatsyayana</td>\n",
       "      <td>A2229ENXMRMMJ0</td>\n",
       "      <td>3</td>\n",
       "      <td>476708</td>\n",
       "    </tr>\n",
       "    <tr>\n",
       "      <td>476709</td>\n",
       "      <td>476709</td>\n",
       "      <td>Book</td>\n",
       "      <td>The Kama Sutra of Vatsyayana</td>\n",
       "      <td>AUTBHG6070SL4</td>\n",
       "      <td>5</td>\n",
       "      <td>476709</td>\n",
       "    </tr>\n",
       "    <tr>\n",
       "      <td>476710</td>\n",
       "      <td>476710</td>\n",
       "      <td>Book</td>\n",
       "      <td>The Kama Sutra of Vatsyayana</td>\n",
       "      <td>A1691IW4UG8Y0F</td>\n",
       "      <td>5</td>\n",
       "      <td>476710</td>\n",
       "    </tr>\n",
       "    <tr>\n",
       "      <td>476711</td>\n",
       "      <td>476711</td>\n",
       "      <td>Book</td>\n",
       "      <td>The Kama Sutra of Vatsyayana</td>\n",
       "      <td>A8DAA08S4H723</td>\n",
       "      <td>3</td>\n",
       "      <td>476711</td>\n",
       "    </tr>\n",
       "    <tr>\n",
       "      <td>476712</td>\n",
       "      <td>476712</td>\n",
       "      <td>Book</td>\n",
       "      <td>The Kama Sutra of Vatsyayana</td>\n",
       "      <td>A3N0K4EMFLX22</td>\n",
       "      <td>3</td>\n",
       "      <td>476712</td>\n",
       "    </tr>\n",
       "    <tr>\n",
       "      <td>...</td>\n",
       "      <td>...</td>\n",
       "      <td>...</td>\n",
       "      <td>...</td>\n",
       "      <td>...</td>\n",
       "      <td>...</td>\n",
       "      <td>...</td>\n",
       "    </tr>\n",
       "    <tr>\n",
       "      <td>477762</td>\n",
       "      <td>477762</td>\n",
       "      <td>Video</td>\n",
       "      <td>The Kama Sutra of Vatsyayana</td>\n",
       "      <td>A3FNM6LQ7VEKWH</td>\n",
       "      <td>4</td>\n",
       "      <td>477762</td>\n",
       "    </tr>\n",
       "    <tr>\n",
       "      <td>477763</td>\n",
       "      <td>477763</td>\n",
       "      <td>Book</td>\n",
       "      <td>The Kama Sutra of Vatsyayana</td>\n",
       "      <td>A99TI3YYINHG8</td>\n",
       "      <td>5</td>\n",
       "      <td>477763</td>\n",
       "    </tr>\n",
       "    <tr>\n",
       "      <td>477764</td>\n",
       "      <td>477764</td>\n",
       "      <td>Music</td>\n",
       "      <td>The Kama Sutra of Vatsyayana</td>\n",
       "      <td>A5DRP3IN5B9GU</td>\n",
       "      <td>5</td>\n",
       "      <td>477764</td>\n",
       "    </tr>\n",
       "    <tr>\n",
       "      <td>477765</td>\n",
       "      <td>477765</td>\n",
       "      <td>Book</td>\n",
       "      <td>The Kama Sutra of Vatsyayana</td>\n",
       "      <td>A3P1A63Q8L32C5</td>\n",
       "      <td>4</td>\n",
       "      <td>477765</td>\n",
       "    </tr>\n",
       "    <tr>\n",
       "      <td>477766</td>\n",
       "      <td>477766</td>\n",
       "      <td>Book</td>\n",
       "      <td>The Kama Sutra of Vatsyayana</td>\n",
       "      <td>A31HCF8SGXQJR0</td>\n",
       "      <td>4</td>\n",
       "      <td>477766</td>\n",
       "    </tr>\n",
       "  </tbody>\n",
       "</table>\n",
       "<p>1059 rows × 6 columns</p>\n",
       "</div>"
      ],
      "text/plain": [
       "        Unnamed: 0  Group                         Title              Id  \\\n",
       "476708      476708   Book  The Kama Sutra of Vatsyayana  A2229ENXMRMMJ0   \n",
       "476709      476709   Book  The Kama Sutra of Vatsyayana   AUTBHG6070SL4   \n",
       "476710      476710   Book  The Kama Sutra of Vatsyayana  A1691IW4UG8Y0F   \n",
       "476711      476711   Book  The Kama Sutra of Vatsyayana   A8DAA08S4H723   \n",
       "476712      476712   Book  The Kama Sutra of Vatsyayana   A3N0K4EMFLX22   \n",
       "...            ...    ...                           ...             ...   \n",
       "477762      477762  Video  The Kama Sutra of Vatsyayana  A3FNM6LQ7VEKWH   \n",
       "477763      477763   Book  The Kama Sutra of Vatsyayana   A99TI3YYINHG8   \n",
       "477764      477764  Music  The Kama Sutra of Vatsyayana   A5DRP3IN5B9GU   \n",
       "477765      477765   Book  The Kama Sutra of Vatsyayana  A3P1A63Q8L32C5   \n",
       "477766      477766   Book  The Kama Sutra of Vatsyayana  A31HCF8SGXQJR0   \n",
       "\n",
       "       Ratings   index  \n",
       "476708       3  476708  \n",
       "476709       5  476709  \n",
       "476710       5  476710  \n",
       "476711       3  476711  \n",
       "476712       3  476712  \n",
       "...        ...     ...  \n",
       "477762       4  477762  \n",
       "477763       5  477763  \n",
       "477764       5  477764  \n",
       "477765       4  477765  \n",
       "477766       4  477766  \n",
       "\n",
       "[1059 rows x 6 columns]"
      ]
     },
     "execution_count": 9,
     "metadata": {},
     "output_type": "execute_result"
    }
   ],
   "source": [
    "title7"
   ]
  },
  {
   "cell_type": "code",
   "execution_count": 11,
   "metadata": {},
   "outputs": [
    {
     "name": "stdout",
     "output_type": "stream",
     "text": [
      "(array([2]),)\n"
     ]
    }
   ],
   "source": [
    "x = np.asarray([0.0, 0, 1])\n",
    "print(np.nonzero(x))"
   ]
  },
  {
   "cell_type": "code",
   "execution_count": null,
   "metadata": {},
   "outputs": [],
   "source": []
  }
 ],
 "metadata": {
  "kernelspec": {
   "display_name": "Python 3",
   "language": "python",
   "name": "python3"
  },
  "language_info": {
   "codemirror_mode": {
    "name": "ipython",
    "version": 3
   },
   "file_extension": ".py",
   "mimetype": "text/x-python",
   "name": "python",
   "nbconvert_exporter": "python",
   "pygments_lexer": "ipython3",
   "version": "3.6.9"
  }
 },
 "nbformat": 4,
 "nbformat_minor": 2
}
