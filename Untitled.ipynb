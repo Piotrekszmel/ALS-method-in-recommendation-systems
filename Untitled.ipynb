{
 "cells": [
  {
   "cell_type": "code",
   "execution_count": 1,
   "metadata": {},
   "outputs": [],
   "source": [
    "import pandas as pd\n",
    "import numpy as np"
   ]
  },
  {
   "cell_type": "code",
   "execution_count": 104,
   "metadata": {},
   "outputs": [],
   "source": [
    "data = pd.read_csv(\"amazon_data.csv\", index_col=False)\n",
    "\n",
    "data[\"Title\"].value_counts()\n",
    "\n",
    "title1 = data.loc[data[\"Title\"] == \"Make a Wish (Holiday Greetings Cards)\"]\n",
    "title2 = data.loc[data[\"Title\"] == \"The Man Who Sold the World\"]\n",
    "title3 = data.loc[data[\"Title\"] == \"The Three Stooges - Spook Louder\"]\n",
    "title4 = data.loc[data[\"Title\"] == \"True Grits : The Southern Foods Mail-Order Catalog \"]\n",
    "title5 = data.loc[data[\"Title\"] == \"Quick Toning: Thighs of Steel \"]\n",
    "title6 = data.loc[data[\"Title\"] == \"Simply Red - Live in London\"]\n",
    "title7 = data.loc[data[\"Title\"] == \"The Kama Sutra of Vatsyayana\"]"
   ]
  },
  {
   "cell_type": "code",
   "execution_count": null,
   "metadata": {},
   "outputs": [],
   "source": [
    "data[\"Title\"].value_counts()[:10]"
   ]
  },
  {
   "cell_type": "code",
   "execution_count": 105,
   "metadata": {},
   "outputs": [],
   "source": [
    "idxs = {}\n",
    "titles = [title1, title2, title3, title4, title5, title6, title7]\n",
    "\n",
    "for title in titles:\n",
    "    for idx in title[\"Id\"]:\n",
    "        if idx in idxs:\n",
    "            idxs[idx] += 1\n",
    "        else: \n",
    "            idxs[idx] = 1"
   ]
  },
  {
   "cell_type": "code",
   "execution_count": 106,
   "metadata": {},
   "outputs": [],
   "source": [
    "import operator\n",
    "sorted_idx = sorted(idxs.items(), key=operator.itemgetter(1))"
   ]
  },
  {
   "cell_type": "code",
   "execution_count": 107,
   "metadata": {},
   "outputs": [],
   "source": [
    "top_idx = sorted_idx[-10:]"
   ]
  },
  {
   "cell_type": "code",
   "execution_count": 129,
   "metadata": {},
   "outputs": [],
   "source": [
    "user_product = np.zeros(shape=(10, 7))\n",
    "for i, title in enumerate(titles):\n",
    "    indexes = [id for id in title[\"Id\"]]\n",
    "    for j, idx in enumerate(top_idx):\n",
    "        if idx[0] in indexes:\n",
    "            user_product[j, i] = title[\"Ratings\"].loc[title[\"Id\"] == idx[0]][-1:]"
   ]
  },
  {
   "cell_type": "code",
   "execution_count": 101,
   "metadata": {},
   "outputs": [],
   "source": [
    "data = pd.read_csv(\"amazon_data.csv\", index_col=False)"
   ]
  },
  {
   "cell_type": "code",
   "execution_count": 153,
   "metadata": {},
   "outputs": [
    {
     "name": "stdout",
     "output_type": "stream",
     "text": [
      "XD\n",
      "XD\n",
      "XD\n",
      "XD\n",
      "XD\n",
      "XD\n",
      "XD\n",
      "XD\n",
      "XD\n"
     ]
    }
   ],
   "source": []
  },
  {
   "cell_type": "code",
   "execution_count": 155,
   "metadata": {},
   "outputs": [
    {
     "data": {
      "text/plain": [
       "(10, 7)"
      ]
     },
     "execution_count": 155,
     "metadata": {},
     "output_type": "execute_result"
    }
   ],
   "source": [
    "user_product.shape"
   ]
  },
  {
   "cell_type": "code",
   "execution_count": null,
   "metadata": {},
   "outputs": [],
   "source": []
  }
 ],
 "metadata": {
  "kernelspec": {
   "display_name": "Python 3",
   "language": "python",
   "name": "python3"
  },
  "language_info": {
   "codemirror_mode": {
    "name": "ipython",
    "version": 3
   },
   "file_extension": ".py",
   "mimetype": "text/x-python",
   "name": "python",
   "nbconvert_exporter": "python",
   "pygments_lexer": "ipython3",
   "version": "3.6.9"
  }
 },
 "nbformat": 4,
 "nbformat_minor": 2
}
