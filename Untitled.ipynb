{
 "cells": [
  {
   "cell_type": "code",
   "execution_count": 2,
   "metadata": {},
   "outputs": [],
   "source": [
    "import pandas as pd\n",
    "import numpy as np"
   ]
  },
  {
   "cell_type": "code",
   "execution_count": 3,
   "metadata": {},
   "outputs": [],
   "source": [
    "data = pd.read_csv(\"amazon_data.csv\", index_col=False)\n",
    "\n",
    "title1 = data.loc[data[\"Title\"] == \"Make a Wish (Holiday Greetings Cards)\"]\n",
    "title2 = data.loc[data[\"Title\"] == \"The Man Who Sold the World\"]\n",
    "title3 = data.loc[data[\"Title\"] == \"The Three Stooges - Spook Louder\"]\n",
    "title4 = data.loc[data[\"Title\"] == \"True Grits : The Southern Foods Mail-Order Catalog\"]\n",
    "title5 = data.loc[data[\"Title\"] == \"Quick Toning: Thighs of Steel\"]\n",
    "title6 = data.loc[data[\"Title\"] == \"Simply Red - Live in London\"]\n",
    "title7 = data.loc[data[\"Title\"] == \"The Kama Sutra of Vatsyayana\"]"
   ]
  },
  {
   "cell_type": "code",
   "execution_count": 51,
   "metadata": {},
   "outputs": [],
   "source": [
    "x = data[\"Title\"].value_counts()[:10].index.tolist()"
   ]
  },
  {
   "cell_type": "code",
   "execution_count": 46,
   "metadata": {},
   "outputs": [],
   "source": [
    "title8 = data.loc[(data[\"Title\"] == x[7]) & (data[\"Group\"] == \"Book\")]"
   ]
  },
  {
   "cell_type": "code",
   "execution_count": 34,
   "metadata": {},
   "outputs": [
    {
     "data": {
      "text/plain": [
       "array(['Book', 'Music', 'DVD', 'Video', 'Toy', 'Video Games', 'Software',\n",
       "       'Baby Product', 'CE', 'Sports', 'Phonogroup'], dtype=object)"
      ]
     },
     "execution_count": 34,
     "metadata": {},
     "output_type": "execute_result"
    }
   ],
   "source": [
    "data.Group.unique()"
   ]
  },
  {
   "cell_type": "code",
   "execution_count": 61,
   "metadata": {
    "scrolled": false
   },
   "outputs": [
    {
     "data": {
      "text/plain": [
       "ATVPDKIKX0DER     22335\n",
       "A3UN6WX5RRO2AG     6336\n",
       "A14OJS0VWMOSWO     2594\n",
       "AFVQZQ8PW0L         909\n",
       "A2NJO6YE954DBH      804\n",
       "                  ...  \n",
       "A37ZQUXK94A5HB        1\n",
       "A1D3K6AD0OJ7T6        1\n",
       "A3S625BTDO125K        1\n",
       "A1VQFCZF6UD1V9        1\n",
       "A3E0QSTIKORQWB        1\n",
       "Name: Id, Length: 196581, dtype: int64"
      ]
     },
     "execution_count": 61,
     "metadata": {},
     "output_type": "execute_result"
    }
   ],
   "source": [
    "books = data[data[\"Group\"] == \"Book\"]\n",
    "books[\"Id\"].value_counts()"
   ]
  },
  {
   "cell_type": "code",
   "execution_count": 63,
   "metadata": {},
   "outputs": [
    {
     "data": {
      "text/plain": [
       "['Make a Wish (Holiday Greetings Cards)',\n",
       " 'The Man Who Sold the World',\n",
       " 'The Three Stooges - Spook Louder',\n",
       " 'True Grits : The Southern Foods Mail-Order Catalog',\n",
       " 'Quick Toning: Thighs of Steel',\n",
       " 'Simply Red - Live in London',\n",
       " 'The Kama Sutra of Vatsyayana',\n",
       " 'An Introduction to Difference Equations (Undergraduate Texts in Mathematics)',\n",
       " 'Little House on the Prairie - The Premiere Movie',\n",
       " 'Deke! : An Autobiography']"
      ]
     },
     "execution_count": 63,
     "metadata": {},
     "output_type": "execute_result"
    }
   ],
   "source": [
    "data = pd.read_csv(\"amazon_data.csv\", index_col=False)\n",
    "books = data[data[\"Group\"] == \"Book\"]\n",
    "titles = data[\"Title\"].value_counts()[:10].index.tolist()\n",
    "titles"
   ]
  },
  {
   "cell_type": "code",
   "execution_count": null,
   "metadata": {},
   "outputs": [],
   "source": []
  }
 ],
 "metadata": {
  "kernelspec": {
   "display_name": "Python 3",
   "language": "python",
   "name": "python3"
  },
  "language_info": {
   "codemirror_mode": {
    "name": "ipython",
    "version": 3
   },
   "file_extension": ".py",
   "mimetype": "text/x-python",
   "name": "python",
   "nbconvert_exporter": "python",
   "pygments_lexer": "ipython3",
   "version": "3.6.9"
  }
 },
 "nbformat": 4,
 "nbformat_minor": 2
}
